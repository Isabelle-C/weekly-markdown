{
 "cells": [
  {
   "cell_type": "code",
   "execution_count": 29,
   "metadata": {},
   "outputs": [],
   "source": [
    "# Read the contents of your Markdown file\n",
    "with open(\"/Users/isabellechen/Library/Mobile Documents/iCloud~md~obsidian/Documents/Notes/Weeks/23-FA-06 (10-23).md\", 'r') as file:\n",
    "    markdown_content = file.readlines()\n",
    "\n",
    "# Define a function to extract the header level\n",
    "def get_header_level(line):\n",
    "    return line.count('#')\n",
    "\n",
    "\n"
   ]
  },
  {
   "cell_type": "code",
   "execution_count": 36,
   "metadata": {},
   "outputs": [
    {
     "name": "stdout",
     "output_type": "stream",
     "text": [
      "# Mon 10-23\u0000\n",
      "\n",
      "[['- [x] PS\\n', '- [x] #course-CS213 [10/17](https://northwestern.hosted.panopto.com/Panopto/Pages/Viewer.aspx?id=f51c87b8-fa98-40a6-bdbb-b078012cd635)\\n']]\n",
      "# Tue 10-24\n",
      "\n",
      "[['- [x] PS\\n', '- [x] #course-CS213 [10/17](https://northwestern.hosted.panopto.com/Panopto/Pages/Viewer.aspx?id=f51c87b8-fa98-40a6-bdbb-b078012cd635)\\n'], ['# Mon 10-23\\x00\\n', '- [x] #course-CS213 Lab\\n']]\n",
      "# Wed 10-25\u0000\n",
      "\n",
      "[['- [x] PS\\n', '- [x] #course-CS213 [10/17](https://northwestern.hosted.panopto.com/Panopto/Pages/Viewer.aspx?id=f51c87b8-fa98-40a6-bdbb-b078012cd635)\\n'], ['# Mon 10-23\\x00\\n', '- [x] #course-CS213 Lab\\n'], ['# Tue 10-24\\n', '- [x] Practice speech\\n', '\\n']]\n",
      "# Thu 10-26\u0000\n",
      "\n",
      "[['- [x] PS\\n', '- [x] #course-CS213 [10/17](https://northwestern.hosted.panopto.com/Panopto/Pages/Viewer.aspx?id=f51c87b8-fa98-40a6-bdbb-b078012cd635)\\n'], ['# Mon 10-23\\x00\\n', '- [x] #course-CS213 Lab\\n'], ['# Tue 10-24\\n', '- [x] Practice speech\\n', '\\n'], ['# Wed 10-25\\x00\\n', '- [x] #COMM102 Speech day\\x00\\n', '- [x] #Billing Rent\\x00 <span class=\"tag_id\">1a89c4348c7dada7e16f1ea34cd06cfbb40c4c84 </span> \\n', '- [x] #Billing Credit Card <span class=\"tag_id\">1a89c4348c7dada7e16f1ea34cd06cfbb40c4c84 </span> \\n', '- [x] Check with Bin\\n', '\\n']]\n",
      "# Fri 10-27\u0000\n",
      "\n",
      "[['- [x] PS\\n', '- [x] #course-CS213 [10/17](https://northwestern.hosted.panopto.com/Panopto/Pages/Viewer.aspx?id=f51c87b8-fa98-40a6-bdbb-b078012cd635)\\n'], ['# Mon 10-23\\x00\\n', '- [x] #course-CS213 Lab\\n'], ['# Tue 10-24\\n', '- [x] Practice speech\\n', '\\n'], ['# Wed 10-25\\x00\\n', '- [x] #COMM102 Speech day\\x00\\n', '- [x] #Billing Rent\\x00 <span class=\"tag_id\">1a89c4348c7dada7e16f1ea34cd06cfbb40c4c84 </span> \\n', '- [x] #Billing Credit Card <span class=\"tag_id\">1a89c4348c7dada7e16f1ea34cd06cfbb40c4c84 </span> \\n', '- [x] Check with Bin\\n', '\\n'], ['# Thu 10-26\\x00\\n', '- [x] #course-CS217 Exercise 5 <span class=\"tag_id\">f974a5b13a4ea0d51c69ea4558e44627968e58e2 </span> \\n', '\\n']]\n",
      "# Sat 10-28\n",
      "\n",
      "[['- [x] PS\\n', '- [x] #course-CS213 [10/17](https://northwestern.hosted.panopto.com/Panopto/Pages/Viewer.aspx?id=f51c87b8-fa98-40a6-bdbb-b078012cd635)\\n'], ['# Mon 10-23\\x00\\n', '- [x] #course-CS213 Lab\\n'], ['# Tue 10-24\\n', '- [x] Practice speech\\n', '\\n'], ['# Wed 10-25\\x00\\n', '- [x] #COMM102 Speech day\\x00\\n', '- [x] #Billing Rent\\x00 <span class=\"tag_id\">1a89c4348c7dada7e16f1ea34cd06cfbb40c4c84 </span> \\n', '- [x] #Billing Credit Card <span class=\"tag_id\">1a89c4348c7dada7e16f1ea34cd06cfbb40c4c84 </span> \\n', '- [x] Check with Bin\\n', '\\n'], ['# Thu 10-26\\x00\\n', '- [x] #course-CS217 Exercise 5 <span class=\"tag_id\">f974a5b13a4ea0d51c69ea4558e44627968e58e2 </span> \\n', '\\n'], ['# Fri 10-27\\x00\\n', '- [x] #course-CHE376 [Midterm](https://canvas.northwestern.edu/courses/195800/assignments/1288154) available 11AM\\n', '- [x] PYTHON ENV FOR POETRY\\n']]\n",
      "# Sun 10-29\u0000\n",
      "\n",
      "[['- [x] PS\\n', '- [x] #course-CS213 [10/17](https://northwestern.hosted.panopto.com/Panopto/Pages/Viewer.aspx?id=f51c87b8-fa98-40a6-bdbb-b078012cd635)\\n'], ['# Mon 10-23\\x00\\n', '- [x] #course-CS213 Lab\\n'], ['# Tue 10-24\\n', '- [x] Practice speech\\n', '\\n'], ['# Wed 10-25\\x00\\n', '- [x] #COMM102 Speech day\\x00\\n', '- [x] #Billing Rent\\x00 <span class=\"tag_id\">1a89c4348c7dada7e16f1ea34cd06cfbb40c4c84 </span> \\n', '- [x] #Billing Credit Card <span class=\"tag_id\">1a89c4348c7dada7e16f1ea34cd06cfbb40c4c84 </span> \\n', '- [x] Check with Bin\\n', '\\n'], ['# Thu 10-26\\x00\\n', '- [x] #course-CS217 Exercise 5 <span class=\"tag_id\">f974a5b13a4ea0d51c69ea4558e44627968e58e2 </span> \\n', '\\n'], ['# Fri 10-27\\x00\\n', '- [x] #course-CHE376 [Midterm](https://canvas.northwestern.edu/courses/195800/assignments/1288154) available 11AM\\n', '- [x] PYTHON ENV FOR POETRY\\n'], ['# Sat 10-28\\n', '- [x] #course-CHE376 2PM DUE!\\n', '- [x] #course-CS217 10/24\\n', '- [x] #course-CS217 10/26\\n', '- [x] #Billing Electric <span class=\"tag_id\">1a89c4348c7dada7e16f1ea34cd06cfbb40c4c84 </span> \\n', '- [x] #COMM102 short assignment\\n', '\\n']]\n"
     ]
    }
   ],
   "source": [
    "# Split the Markdown content into sections based on headers\n",
    "sections = []\n",
    "current_section = []\n",
    "for line in markdown_content:\n",
    "    if line.startswith('#'):\n",
    "        print(line)\n",
    "        sections.append(current_section)\n",
    "        current_section = [line]\n",
    "        print(sections)\n",
    "    else:\n",
    "        current_section.append(line)\n",
    "\n",
    "# Add the last section\n",
    "sections.append(current_section)\n"
   ]
  },
  {
   "cell_type": "code",
   "execution_count": 38,
   "metadata": {},
   "outputs": [],
   "source": [
    "markdown_content2 = [line for section in sections for line in section]"
   ]
  },
  {
   "cell_type": "code",
   "execution_count": 40,
   "metadata": {},
   "outputs": [],
   "source": [
    "with open('your_file.md', 'w') as file:\n",
    "    file.writelines(markdown_content2)"
   ]
  }
 ],
 "metadata": {
  "kernelspec": {
   "display_name": "weekly-markdown-oh4Hx8XW-py3.10",
   "language": "python",
   "name": "python3"
  },
  "language_info": {
   "codemirror_mode": {
    "name": "ipython",
    "version": 3
   },
   "file_extension": ".py",
   "mimetype": "text/x-python",
   "name": "python",
   "nbconvert_exporter": "python",
   "pygments_lexer": "ipython3",
   "version": "3.10.0"
  }
 },
 "nbformat": 4,
 "nbformat_minor": 2
}
